{
 "cells": [
  {
   "cell_type": "markdown",
   "id": "e4a7b148",
   "metadata": {},
   "source": [
    "# Robot Learning Visualizations"
   ]
  },
  {
   "cell_type": "markdown",
   "id": "829b471a",
   "metadata": {},
   "source": [
    "#### Basic Setup"
   ]
  },
  {
   "cell_type": "code",
   "execution_count": null,
   "id": "c8de6cfa6b447859",
   "metadata": {},
   "outputs": [],
   "source": [
    "import pandas as pd\n",
    "import numpy as np\n",
    "import matplotlib.pyplot as plt\n",
    "import matplotlib as mpl\n",
    "import seaborn as sns\n",
    "\n",
    "# Change some settings for better aesthetics\n",
    "mpl.rcParams.update({\n",
    "    \"font.family\": \"serif\",\n",
    "    \"mathtext.fontset\": \"cm\",\n",
    "    \"axes.labelsize\": 14,\n",
    "    \"axes.titlesize\": 16,\n",
    "    \"legend.fontsize\": 12,\n",
    "    \"xtick.labelsize\": 12,\n",
    "    \"ytick.labelsize\": 12,\n",
    "    \"lines.linewidth\": 2,\n",
    "})\n",
    "\n",
    "# Enable high-definition inline plotting\n",
    "%matplotlib inline\n",
    "%config InlineBackend.figure_format = 'retina'  # or 'svg' for vector\n",
    "\n",
    "\n",
    "# Optional: better style\n",
    "sns.set(style=\"darkgrid\")\n"
   ]
  },
  {
   "cell_type": "markdown",
   "id": "1a0f22f0",
   "metadata": {},
   "source": [
    "#### Load Evaluation Log"
   ]
  },
  {
   "cell_type": "code",
   "execution_count": null,
   "id": "eeefd574",
   "metadata": {},
   "outputs": [],
   "source": [
    "df = pd.read_csv(\"eval_logs/eval_log.csv\")\n",
    "print(\"Data loaded:\", df.shape)\n",
    "df.head()\n"
   ]
  },
  {
   "cell_type": "markdown",
   "id": "187e1b4c",
   "metadata": {},
   "source": [
    "#### Reward per Step"
   ]
  },
  {
   "cell_type": "code",
   "execution_count": null,
   "id": "244b4573",
   "metadata": {},
   "outputs": [],
   "source": [
    "df.groupby(\"step\")[\"reward\"].sum().plot(title=\"Reward per Step\", figsize=(10, 4))\n",
    "plt.ylabel(\"Reward\")\n",
    "plt.xlabel(\"Step\")\n"
   ]
  },
  {
   "cell_type": "markdown",
   "id": "f1e5df46",
   "metadata": {},
   "source": [
    "#### Physical Parameters over Tine (in one Plot)"
   ]
  },
  {
   "cell_type": "code",
   "execution_count": null,
   "id": "d5e7594b",
   "metadata": {},
   "outputs": [],
   "source": [
    "# fig, ax = plt.subplots(figsize=(10, 5))\n",
    "# df[\"x\"].plot(label=\"x position\", ax=ax)\n",
    "# df[\"x_vel\"].plot(label=\"x velocity\", ax=ax)\n",
    "# df[\"y_angle\"].plot(label=\"y angle\", ax=ax)\n",
    "# plt.title(\"Selected Observations over Time\")\n",
    "# plt.xlabel(\"Step\")\n",
    "# plt.legend()\n"
   ]
  },
  {
   "cell_type": "markdown",
   "id": "a651cbf5",
   "metadata": {},
   "source": [
    "#### Physical Parameters over Tine (in seperate Plots)"
   ]
  },
  {
   "cell_type": "code",
   "execution_count": null,
   "id": "fefc381d",
   "metadata": {},
   "outputs": [],
   "source": [
    "fig, axes = plt.subplots(3, 1, figsize=(10, 7), sharex=True)\n",
    "\n",
    "# Postitions\n",
    "df[\"x\"].plot(ax=axes[0], label=r\"$x$ position\")\n",
    "axes[0].legend()\n",
    "df[\"y\"].plot(ax=axes[0], label=r\"$y$ position\")\n",
    "axes[0].legend()\n",
    "df[\"z\"].plot(ax=axes[0], label=r\"$z$ position\")\n",
    "\n",
    "axes[0].legend()\n",
    "axes[0].set_title(r\"Position over Time\")\n",
    "axes[0].set_ylabel(r\"position $\\mathrm{[m]}$\")\n",
    "\n",
    "# Angles\n",
    "df[\"x_angle\"].plot(ax=axes[1], label=r\"$\\theta_x$ angle\")\n",
    "axes[1].legend()\n",
    "df[\"y_angle\"].plot(ax=axes[1], label=r\"$\\theta_y$ angle\")\n",
    "axes[1].legend()\n",
    "df[\"z_angle\"].plot(ax=axes[1], label=r\"$\\theta_z$ angle\")\n",
    "axes[1].legend()\n",
    "\n",
    "axes[1].set_title(r\"Angle over Time\")\n",
    "axes[1].set_ylabel(r\"Angle $\\mathrm{[TODO]}$\")\n",
    "\n",
    "# Velocities\n",
    "df[\"x_vel\"].plot(ax=axes[2], label=r\"$x$ velocity\")\n",
    "axes[1].legend()\n",
    "# y_vel isnt extracted and saved yet!\n",
    "# df[\"y_vel\"].plot(ax=axes[2], label=\"y velocity\")\n",
    "# axes[1].legend()\n",
    "# z_vel isnt extracted and saved yet!\n",
    "# df[\"z_vel\"].plot(ax=axes[2], label=\"z velocity\")\n",
    "# axes[1].legend()\n",
    "\n",
    "axes[2].set_title(r\"Velocity in $x$ direction over Time\")\n",
    "axes[2].set_ylabel(r\"$\\dot{x}$ $[\\frac{\\mathrm{m}}{\\mathrm{s}}]$\")\n",
    "axes[2].set_xlabel(\"Step\")\n",
    "\n",
    "\n",
    "plt.tight_layout()\n"
   ]
  },
  {
   "cell_type": "code",
   "execution_count": null,
   "id": "ced6b9bc",
   "metadata": {},
   "outputs": [],
   "source": []
  },
  {
   "cell_type": "code",
   "execution_count": null,
   "id": "a711d63d",
   "metadata": {},
   "outputs": [],
   "source": [
    "action_cols = [col for col in df.columns if \"action\" in col]\n",
    "df[action_cols].plot(subplots=True, figsize=(10, 6), title=\"Action Over Time\")\n"
   ]
  },
  {
   "cell_type": "code",
   "execution_count": null,
   "id": "7be58b3f",
   "metadata": {},
   "outputs": [],
   "source": [
    "info_cols = [col for col in df.columns if \"penalty\" in col or \"info_\" in col]\n",
    "df[info_cols].plot(subplots=True, figsize=(10, 12), title=\"Penalties/Infos\")"
   ]
  },
  {
   "cell_type": "code",
   "execution_count": null,
   "id": "06d65b77",
   "metadata": {},
   "outputs": [],
   "source": []
  },
  {
   "cell_type": "code",
   "execution_count": null,
   "id": "d65bcabc",
   "metadata": {},
   "outputs": [],
   "source": []
  },
  {
   "cell_type": "code",
   "execution_count": null,
   "id": "0ab54824",
   "metadata": {},
   "outputs": [],
   "source": []
  }
 ],
 "metadata": {
  "kernelspec": {
   "display_name": "venv",
   "language": "python",
   "name": "python3"
  },
  "language_info": {
   "codemirror_mode": {
    "name": "ipython",
    "version": 3
   },
   "file_extension": ".py",
   "mimetype": "text/x-python",
   "name": "python",
   "nbconvert_exporter": "python",
   "pygments_lexer": "ipython3",
   "version": "3.11.1"
  }
 },
 "nbformat": 4,
 "nbformat_minor": 5
}
