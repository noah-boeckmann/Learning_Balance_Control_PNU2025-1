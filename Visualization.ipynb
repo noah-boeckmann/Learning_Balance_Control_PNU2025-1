{
 "cells": [
  {
   "cell_type": "markdown",
   "id": "e4a7b148",
   "metadata": {},
   "source": [
    "# Robot Learning Visualizations"
   ]
  },
  {
   "cell_type": "markdown",
   "id": "829b471a",
   "metadata": {},
   "source": [
    "#### Basic Setup"
   ]
  },
  {
   "cell_type": "code",
   "execution_count": null,
   "id": "c8de6cfa6b447859",
   "metadata": {
    "ExecuteTime": {
     "end_time": "2025-06-11T04:42:08.612229Z",
     "start_time": "2025-06-11T04:42:08.601171Z"
    }
   },
   "outputs": [],
   "source": [
    "import pandas as pd\n",
    "import numpy as np\n",
    "import matplotlib.pyplot as plt\n",
    "import matplotlib as mpl\n",
    "import seaborn as sns\n",
    "\n",
    "# Change some settings for better aesthetics\n",
    "mpl.rcParams.update({\n",
    "    \"font.family\": \"serif\",\n",
    "    \"mathtext.fontset\": \"cm\",\n",
    "    # \"axes.labelsize\": 15,\n",
    "    # \"axes.titlesize\": 16,\n",
    "    # \"legend.fontsize\": 12,\n",
    "    # \"xtick.labelsize\": 12,\n",
    "    # \"ytick.labelsize\": 12,\n",
    "    # \"lines.linewidth\": 2.0,\n",
    "})\n",
    "\n",
    "# Enable high-definition inline plotting\n",
    "%matplotlib inline\n",
    "%config InlineBackend.figure_format = 'retina'  # or 'svg' for vector\n",
    "\n",
    "\n",
    "# Optional: other style\n",
    "sns.set_theme(style=\"darkgrid\")\n",
    "\n",
    "# sns.set_theme(\n",
    "#     style=\"darkgrid\",\n",
    "#     rc={\n",
    "#         \"font.family\": \"serif\",\n",
    "#         \"mathtext.fontset\": \"cm\",\n",
    "#         \"axes.labelsize\": 15,\n",
    "#         \"axes.titlesize\": 16,\n",
    "#         \"legend.fontsize\": 12,\n",
    "#         \"xtick.labelsize\": 12,\n",
    "#         \"ytick.labelsize\": 12,\n",
    "#         \"lines.linewidth\": 2.5,\n",
    "#     }\n",
    "# )\n",
    "\n",
    "# plt.rcParams['font.family'] = 'serif'\n",
    "# plt.rcParams['mathtext.fontset'] = 'cm'\n"
   ]
  },
  {
   "cell_type": "markdown",
   "id": "1a0f22f0",
   "metadata": {},
   "source": [
    "#### Load Evaluation Log"
   ]
  },
  {
   "cell_type": "code",
   "execution_count": null,
   "id": "eeefd574",
   "metadata": {
    "ExecuteTime": {
     "end_time": "2025-06-11T04:42:08.679953Z",
     "start_time": "2025-06-11T04:42:08.647501Z"
    }
   },
   "outputs": [],
   "source": [
    "# df = pd.read_csv(\"eval_logs/eval_log.csv\")\n",
    "#df = pd.read_csv(\"eval_logs/PPO_10deg_rand_force.csv\")\n",
    "#df = pd.read_csv(\"eval_logs/PPO_10deg_rand_force_4.csv\")\n",
    "#df = pd.read_csv(\"eval_logs/PPO_10deg_rand_force_4_0force.csv\")\n",
    "# df = pd.read_csv(\"eval_logs/PPO_10deg_rand_force_5.csv\")\n",
    "# df = pd.read_csv(\"eval_logs/PPO_noDistur_fasterCurr_newPen_30deg.csv\")\n",
    "df = pd.read_csv(\"eval_logs/PPO_noDistur_fasterCurr_newPen_30deg_evalulated_with_force.csv\")\n",
    "# df = pd.read_csv(\"eval_logs/PPO_noDistur_fasterCurr_newPen_30deg_evalulated_without_force.csv\")\n",
    "\n",
    "\n",
    "print(\"Data loaded:\", df.shape)\n",
    "df.head()\n"
   ]
  },
  {
   "cell_type": "markdown",
   "id": "187e1b4c",
   "metadata": {},
   "source": [
    "#### Reward per Step"
   ]
  },
  {
   "cell_type": "code",
   "execution_count": null,
   "id": "244b4573",
   "metadata": {
    "ExecuteTime": {
     "end_time": "2025-06-11T04:42:09.151173Z",
     "start_time": "2025-06-11T04:42:08.819985Z"
    }
   },
   "outputs": [],
   "source": [
    "df.groupby(\"step\")[\"reward\"].sum().plot(figsize=(10, 3.5))\n",
    "plt.ylabel(\"Reward\", fontsize=13)\n",
    "plt.xlabel(\"Time Step\", fontsize=13)\n",
    "plt.ylim(top=1.006)\n",
    "\n",
    "plt.axhline(y=1.0, color=\"black\", linestyle=\"--\", linewidth=1)  # Dashed line at y=1"
   ]
  },
  {
   "cell_type": "markdown",
   "id": "f1e5df46",
   "metadata": {},
   "source": [
    "#### Physical Parameters over Time (in one Plot)"
   ]
  },
  {
   "cell_type": "code",
   "execution_count": null,
   "id": "fefc381d",
   "metadata": {
    "ExecuteTime": {
     "end_time": "2025-06-11T04:42:10.792869Z",
     "start_time": "2025-06-11T04:42:09.208388Z"
    }
   },
   "outputs": [],
   "source": [
    "fig, axes = plt.subplots(3, 1, figsize=(9, 7), sharex=True)\n",
    "\n",
    "# --- Positions ---\n",
    "axes[0].plot(df[\"x\"], label=r\"$x$ position\")\n",
    "axes[0].plot(df[\"y\"], label=r\"$y$ position\")\n",
    "axes[0].plot(df[\"z\"], label=r\"$z$ position\")\n",
    "axes[0].set_title(r\"Position\", fontsize=15)\n",
    "axes[0].set_ylabel(r\"Position  $\\mathrm{[m]}$\", fontsize=15)\n",
    "axes[0].legend(loc=\"center left\", bbox_to_anchor=(1.02, 0.5), borderaxespad=0)\n",
    "\n",
    "# --- Angles ---\n",
    "axes[1].plot(df[\"x_angle\"], label=r\"$\\theta_x$ angle\")\n",
    "axes[1].plot(df[\"y_angle\"], label=r\"$\\theta_y$ angle\")\n",
    "axes[1].plot(df[\"z_angle\"], label=r\"$\\theta_z$ angle\")\n",
    "axes[1].set_title(r\"Angles\", fontsize=15)\n",
    "axes[1].set_ylabel(r\"Angle  $\\mathrm{[deg]}$\", fontsize=15)\n",
    "axes[1].legend(loc=\"center left\", bbox_to_anchor=(1.02, 0.5), borderaxespad=0)\n",
    "\n",
    "# --- Velocity ---\n",
    "axes[2].plot(df[\"x_vel\"], label=r\"velocity in\"+\"\\n\"+r\"$x$ direction\")\n",
    "axes[2].set_title(r\"Velocity in $x$ direction\", fontsize=15)\n",
    "axes[2].set_ylabel(r\"$\\dot{x}$  $[\\mathrm{m/s}]$\", fontsize=15)\n",
    "axes[2].legend(loc=\"center left\", bbox_to_anchor=(1.02, 0.5), borderaxespad=0)\n",
    "axes[2].set_xlabel(\"Time step\", fontsize=14)\n",
    "\n",
    "\n",
    "# plt.tight_layout()\n",
    "plt.subplots_adjust(right=0.8)  # leave space for legends on the right\n",
    "plt.show()\n",
    "# plt.tight_layout()"
   ]
  },
  {
   "cell_type": "markdown",
   "id": "74d3c506",
   "metadata": {},
   "source": [
    "### Action over Time"
   ]
  },
  {
   "cell_type": "code",
   "execution_count": null,
   "id": "a711d63d",
   "metadata": {
    "ExecuteTime": {
     "end_time": "2025-06-11T04:42:11.678755Z",
     "start_time": "2025-06-11T04:42:10.890564Z"
    }
   },
   "outputs": [],
   "source": [
    "action_cols = [col for col in df.columns if \"action\" in col or \"wheel_speed\" in col]\n",
    "axes = df[action_cols].plot(subplots=True, figsize=(9, 8))\n",
    "\n",
    "plt.suptitle(r\"Wheel Speed and Action (Torque)\", y=0.92, fontsize=15)\n",
    "labels = {\n",
    "    \"action_0\": r\"Torque Left\" + \"\\n\" + r\"$\\text{[Nm]}$\",\n",
    "    \"action_1\": r\"Torque Right\" + \"\\n\" + r\"$\\text{[Nm]}$\",\n",
    "    \"wheel_speed_l\": r\"$\\dot\\theta_\\text{left wheel}$\" + \"\\n\" + r\"$[\\text{deg/s}]$\",\n",
    "    \"wheel_speed_r\": r\"$\\dot\\theta_\\text{right wheel}$\" + \"\\n\" + r\"$[\\text{deg/s}]$\",\n",
    "}\n",
    "for ax, col in zip(axes, action_cols):\n",
    "    ax.set_ylabel(labels.get(col, col), fontsize=15)  # Fallback to column name if label missing\n",
    "    # ax.legend(loc=\"upper right\")\n",
    "axes[-1].set_xlabel(\"Time step\", fontsize=14);"
   ]
  },
  {
   "cell_type": "markdown",
   "id": "86d9d967",
   "metadata": {},
   "source": [
    "### Individual Penalties over Time\n",
    "\n",
    "#### First, just the bounded sensor data *without* penalty factors $\\lambda_{i}$\n",
    "\n",
    "The bounded sensor data lies between $[0, 1]$ (for plotting here in $[-1, 0]$ actually)"
   ]
  },
  {
   "cell_type": "code",
   "execution_count": null,
   "id": "b975257c",
   "metadata": {},
   "outputs": [],
   "source": [
    "info_cols = [col for col in df.columns if \"bounded\" in col]\n",
    "axes = df[info_cols].plot(subplots=True, figsize=(10, 12))\n",
    "\n",
    "plt.suptitle(r\"Bounded Sensor Data Observations $f_{s_i}(o_i)$ without Penalty Factors $\\lambda_i$\", y=0.91)\n",
    "labels = {\n",
    "    \"bounded_dist\": r\"$f_{s_{x}}(x)$\",\n",
    "    \"bounded_y_angle\": r\"$f_{s_{\\theta_y}}(\\theta_y)$\",\n",
    "    \"bounded_wheel_l\": r\"$f_{s_{\\dot \\theta_\\text{L wheel}}}\\left( \\dot \\theta_\\text{L wheel}\\right)$\",\n",
    "    \"bounded_wheel_r\": r\"$f_{s_{\\dot \\theta_\\text{R wheel}}}\\left( \\dot \\theta_\\text{R wheel}\\right)$\",\n",
    "    \"bounded_z_angle\": r\"$f_{s_{\\theta_z}}(\\theta_z)$\",\n",
    "    \"bounded_x_vel\": r\"$f_{s_{\\dot x}}(\\dot x)$\",\n",
    "    \"bounded_y_angle_vel\": r\"$f_{s_{\\dot \\theta_y}}(\\dot \\theta_y)$\",\n",
    "}\n",
    "for ax, col in zip(axes, info_cols):\n",
    "    ax.set_ylabel(labels.get(col, col), fontsize=13)  # Fallback to column name if label missing\n",
    "    ax.legend(loc=\"lower right\")\n",
    "\n",
    "for ax in axes:\n",
    "    ax.set_ylim(-1.025, 0.025)  # Adjust limits as needed\n",
    "axes[-1].set_xlabel(\"Time step\");"
   ]
  },
  {
   "cell_type": "markdown",
   "id": "1cf2165c",
   "metadata": {},
   "source": [
    "#### Now, *with* penalty factors $\\lambda_{i}$\n",
    "\n",
    "Now, the penalties are scaled with by their respective penalty factors $\\lambda_{i}$ (but still between $[0, 1]$ or $[-1, 0]$ for plotting)\n",
    "This shows each individual penalty influences the final reward."
   ]
  },
  {
   "cell_type": "code",
   "execution_count": null,
   "id": "7be58b3f",
   "metadata": {
    "ExecuteTime": {
     "end_time": "2025-06-11T04:42:13.095527Z",
     "start_time": "2025-06-11T04:42:11.697562Z"
    }
   },
   "outputs": [],
   "source": [
    "info_cols = [col for col in df.columns if \"penalty\" in col or \"info_\" in col]\n",
    "axes = df[info_cols].plot(subplots=True, figsize=(10, 14))\n",
    "\n",
    "plt.suptitle(r\"Full Penalties of Observations $\\lambda_{i} f_{s_i}(o_i)$\", y=0.91)\n",
    "labels = {\n",
    "    \"distance_penalty\": r\"$\\lambda_x f_{s_x}(x)$\",\n",
    "    \"y_angle_penalty\": r\"$\\lambda_{\\theta_y} f_{s_{\\theta_y}}(\\theta_y)$\",\n",
    "    \"z_angle_penalty\": r\"$\\lambda_{\\theta_z} f_{s_{\\theta_z}}(\\theta_z)$\",\n",
    "    \"wheel_l_penalty\": r\"$\\lambda_{\\dot \\theta_\\text{wheel}} f_{s_{\\dot \\theta_\\text{L wheel}}}\\left( \\dot \\theta_\\text{L wheel}\\right)$\",\n",
    "    \"wheel_r_penalty\": r\"$\\lambda_{\\dot \\theta_\\text{wheel}} f_{s_{\\dot \\theta_\\text{R wheel}}}\\left( \\dot \\theta_\\text{R wheel}\\right)$\",\n",
    "    \"x_vel_penalty\": r\"$\\lambda_{\\dot x} f_{s_{\\dot x}}(\\dot x)$\",\n",
    "    \"y_angle_vel_penalty\": r\"$\\lambda_{\\dot \\theta_y} f_{s_{\\dot \\theta_y}}(\\dot \\theta_y)$\",\n",
    "}\n",
    "for ax, col in zip(axes, info_cols):\n",
    "    ax.set_ylabel(labels.get(col, col), fontsize=13)  # Fallback to column name if label missing\n",
    "    ax.legend(loc=\"lower right\")\n",
    "\n",
    "for ax in axes:\n",
    "    ax.set_ylim(-0.5, 0.025)  # Adjust limits as needed\n",
    "\n",
    "axes[-1].set_xlabel(\"Time step\");\n"
   ]
  }
 ],
 "metadata": {
  "kernelspec": {
   "display_name": "venv",
   "language": "python",
   "name": "python3"
  },
  "language_info": {
   "codemirror_mode": {
    "name": "ipython",
    "version": 3
   },
   "file_extension": ".py",
   "mimetype": "text/x-python",
   "name": "python",
   "nbconvert_exporter": "python",
   "pygments_lexer": "ipython3",
   "version": "3.11.1"
  }
 },
 "nbformat": 4,
 "nbformat_minor": 5
}
